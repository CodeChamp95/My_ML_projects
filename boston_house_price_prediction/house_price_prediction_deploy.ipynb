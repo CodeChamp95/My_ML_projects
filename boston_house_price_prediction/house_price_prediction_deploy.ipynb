{
 "cells": [
  {
   "cell_type": "code",
   "execution_count": 2,
   "metadata": {},
   "outputs": [],
   "source": [
    "import pandas as pd\n",
    "import numpy as np\n",
    "from matplotlib import pyplot as plt\n",
    "import seaborn as sns\n",
    "# from xgboost import XGBRegressor\n",
    "# from sklearn.linear_model import LinearRegression,Ridge,Lasso,SGDRegressor\n",
    "# from sklearn.tree import DecisionTreeRegressor\n",
    "from sklearn.ensemble import ExtraTreesRegressor\n",
    "from sklearn.metrics import mean_squared_error\n",
    "from sklearn.model_selection import cross_val_score,train_test_split,GridSearchCV\n",
    "from sklearn.preprocessing import StandardScaler\n",
    "# import tensorflow as tf"
   ]
  },
  {
   "cell_type": "code",
   "execution_count": 3,
   "metadata": {},
   "outputs": [
    {
     "name": "stdout",
     "output_type": "stream",
     "text": [
      "      CRIM    ZN  INDUS  CHAS    NOX     RM   AGE     DIS  RAD    TAX  \\\n",
      "0  0.00632  18.0   2.31     0  0.538  6.575  65.2  4.0900    1  296.0   \n",
      "1  0.02731   0.0   7.07     0  0.469  6.421  78.9  4.9671    2  242.0   \n",
      "2  0.02729   0.0   7.07     0  0.469  7.185  61.1  4.9671    2  242.0   \n",
      "3  0.03237   0.0   2.18     0  0.458  6.998  45.8  6.0622    3  222.0   \n",
      "4  0.06905   0.0   2.18     0  0.458  7.147  54.2  6.0622    3  222.0   \n",
      "\n",
      "   PTRATIO       B  LSTAT  MEDV  \n",
      "0     15.3  396.90   4.98  24.0  \n",
      "1     17.8  396.90   9.14  21.6  \n",
      "2     17.8  392.83   4.03  34.7  \n",
      "3     18.7  394.63   2.94  33.4  \n",
      "4     18.7  396.90   5.33  36.2  \n"
     ]
    },
    {
     "data": {
      "text/plain": [
       "count    506.000000\n",
       "mean       9.549407\n",
       "std        8.707259\n",
       "min        1.000000\n",
       "25%        4.000000\n",
       "50%        5.000000\n",
       "75%       24.000000\n",
       "max       24.000000\n",
       "Name: RAD, dtype: float64"
      ]
     },
     "execution_count": 3,
     "metadata": {},
     "output_type": "execute_result"
    }
   ],
   "source": [
    "boston_df=pd.read_csv(\"boston.csv\")\n",
    "print(boston_df.head())\n",
    "boston_df.RAD.describe()"
   ]
  },
  {
   "cell_type": "code",
   "execution_count": 4,
   "metadata": {},
   "outputs": [
    {
     "name": "stdout",
     "output_type": "stream",
     "text": [
      "       CRIM        ZN     INDUS       NOX        RM       AGE       DIS  \\\n",
      "0 -0.419782  0.284830 -1.287909 -0.144217  0.413672 -0.120013  0.140214   \n",
      "1 -0.417339 -0.487722 -0.593381 -0.740262  0.194274  0.367166  0.557160   \n",
      "2 -0.417342 -0.487722 -0.593381 -0.740262  1.282714 -0.265812  0.557160   \n",
      "3 -0.416750 -0.487722 -1.306878 -0.835284  1.016303 -0.809889  1.077737   \n",
      "4 -0.412482 -0.487722 -1.306878 -0.835284  1.228577 -0.511180  1.077737   \n",
      "\n",
      "        TAX   PTRATIO         B     LSTAT  CHAS  RAD  \n",
      "0 -0.666608 -1.459000  0.441052 -1.075562     0    1  \n",
      "1 -0.987329 -0.303094  0.441052 -0.492439     0    2  \n",
      "2 -0.987329 -0.303094  0.396427 -1.208727     0    2  \n",
      "3 -1.106115  0.113032  0.416163 -1.361517     0    3  \n",
      "4 -1.106115  0.113032  0.441052 -1.026501     0    3  \n"
     ]
    }
   ],
   "source": [
    "scaler=StandardScaler()\n",
    "scaled_data=scaler.fit_transform(boston_df[[\"CRIM\",\"ZN\",\"INDUS\",\"NOX\",\"RM\",\"AGE\",\"DIS\",\"TAX\",\"PTRATIO\",\"B\",\"LSTAT\"]])\n",
    "categorical_df=boston_df[[\"CHAS\",\"RAD\"]]\n",
    "scaled_boston_df=pd.DataFrame(scaled_data,columns=[\"CRIM\",\"ZN\",\"INDUS\",\"NOX\",\"RM\",\"AGE\",\"DIS\",\"TAX\",\"PTRATIO\",\"B\",\"LSTAT\"],index=categorical_df.index)\n",
    "scaled_inputs_df=scaled_boston_df.join(categorical_df)\n",
    "print(scaled_inputs_df.head())\n"
   ]
  },
  {
   "cell_type": "code",
   "execution_count": 5,
   "metadata": {},
   "outputs": [],
   "source": [
    "def model_evaluation(model):\n",
    "    targets=boston_df[\"MEDV\"]\n",
    "    model.fit(scaled_inputs_df,targets)\n",
    "    predictions=model.predict(scaled_inputs_df)\n",
    "    # rmse=np.sqrt(mean_squared_error(targets,predictions))\n",
    "    cv_scores=np.sqrt(-cross_val_score(model,scaled_inputs_df,targets,cv=10,scoring=\"neg_mean_squared_error\"))\n",
    "    cv_score=np.mean(cv_scores)\n",
    "    # print(f\"RMSE training: {rmse}\")\n",
    "    print(f\"Cross-val score: {cv_score}\")\n",
    "\n",
    "# targets=boston_df_train[\"MEDV\"]\n",
    "# print(targets.info())\n",
    "# print(scaled_inputs_df.info())\n",
    "    "
   ]
  },
  {
   "cell_type": "code",
   "execution_count": 6,
   "metadata": {},
   "outputs": [
    {
     "name": "stdout",
     "output_type": "stream",
     "text": [
      "Cross-val score: 3.9111664039945824\n"
     ]
    }
   ],
   "source": [
    "model=ExtraTreesRegressor()\n",
    "model_evaluation(model)\n",
    "# model_evaluation_test(model)"
   ]
  },
  {
   "cell_type": "code",
   "execution_count": 7,
   "metadata": {},
   "outputs": [],
   "source": [
    "import pickle"
   ]
  },
  {
   "cell_type": "code",
   "execution_count": 8,
   "metadata": {},
   "outputs": [],
   "source": [
    "pickle.dump(model,open(\"model.pkl\",\"wb\"))\n",
    "pickle.dump(scaler,open(\"scaler.pkl\",\"wb\"))"
   ]
  },
  {
   "cell_type": "code",
   "execution_count": null,
   "metadata": {},
   "outputs": [],
   "source": []
  }
 ],
 "metadata": {
  "kernelspec": {
   "display_name": "myenv",
   "language": "python",
   "name": "python3"
  },
  "language_info": {
   "codemirror_mode": {
    "name": "ipython",
    "version": 3
   },
   "file_extension": ".py",
   "mimetype": "text/x-python",
   "name": "python",
   "nbconvert_exporter": "python",
   "pygments_lexer": "ipython3",
   "version": "3.12.4"
  }
 },
 "nbformat": 4,
 "nbformat_minor": 2
}
